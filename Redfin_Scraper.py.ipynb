{
 "metadata": {
  "name": "",
  "signature": "sha256:621a581db2ee00f9e07e3e29a449142b451182ccfe99de1bd7df821e477b3ab5"
 },
 "nbformat": 3,
 "nbformat_minor": 0,
 "worksheets": [
  {
   "cells": [
    {
     "cell_type": "code",
     "collapsed": false,
     "input": [
      "import numpy as np\n",
      "import string\n",
      "import selenium\n",
      "from selenium import webdriver\n",
      "from selenium.webdriver.common.keys import Keys\n",
      "import sklearn\n",
      "from sklearn import linear_model\n",
      "import pandas as pd\n",
      "from pandas.tools.plotting import scatter_matrix\n",
      "import matplotlib.pyplot as plt\n",
      "from matplotlib.collections import LineCollection\n",
      "from pylab import *\n",
      "import ggplot\n",
      "from bs4 import BeautifulSoup\n",
      "from selenium.webdriver.common.keys import Keys\n",
      "import time\n",
      "from re import sub\n",
      "from decimal import Decimal"
     ],
     "language": "python",
     "metadata": {},
     "outputs": [],
     "prompt_number": 8
    },
    {
     "cell_type": "code",
     "collapsed": false,
     "input": [
      "# listings is file object with a row per address\n",
      "# this scrapes redfin details page per address and writes the result to training_file\n",
      "# note: this writes to the file one row at a time in case the scrape fails mid-way\n",
      "def createtrainingset(listings, training_file, crime_):\n",
      "    outf = open(training_file,'a')\n",
      "    line = listings.readline()\n",
      "    while line:\n",
      "        listing = line.split('\\t')\n",
      "        if listing[0]=='MLS Listing':\n",
      "        #if listing[0]=='Past Sale' or listing[0]=='MLS Listing':\n",
      "            home_id = listing[2]\n",
      "            redfin_url = listing[24]\n",
      "            lat, lon = (listing[-3] , listing[-2])\n",
      "            year_built, zip_code, list_price, beds, baths, sqft, dom, parking, orig_list_price = (\n",
      "                listing[12] , listing[5], listing[6], listing[7],\n",
      "                listing[8], listing[10], listing[15], listing[13], listing[21]\n",
      "                )\n",
      "            \n",
      "            if listing[10] and listing[7] and listing[8] and listing[12] and listing[-2] and listing[-3]:\n",
      "                browser.get(redfin_url)\n",
      "                t=browser.page_source\n",
      "                l=browser.find_elements_by_class_name('as-data-section')\n",
      "\n",
      "                redfin_vars = [x.text for x in l]\n",
      "                gd=browser.find_elements_by_id('propertyDetailsId')\n",
      "                details = [x.text for x in gd]\n",
      "\n",
      "                if len(','.join(details).split('\\n')) >= 2:\n",
      "                    lsp = ','.join(details).split('\\n')[2]\n",
      "                    lastsoldprice = Decimal(sub(r'[^\\d.]', '', lsp))\n",
      "                else:\n",
      "                    lastsoldprice = ''\n",
      "\n",
      "                counter = 0\n",
      "                if abs(float(lat)) > 1:\n",
      "                    g = [float(lat),float(lon)]\n",
      "                    for k in range(len(crime_)):\n",
      "                        if abs(abs(g[0])-abs(float(crime_[k][1]))) < 0.0047 and abs(abs(g[1])-abs(float(crime_[k][0]))) < 0.0037: \n",
      "                            counter = counter + float(crime_[k][2])\n",
      "                if len(redfin_vars) == 4 and len(redfin_vars[0]) > 0: #checks for complete listings\n",
      "                    def get_num(x):\n",
      "                        return x.split('\\n')[0].split()[0].replace(',','')\n",
      "                    views = get_num(redfin_vars[0])\n",
      "                    favs = get_num(redfin_vars[1])\n",
      "                    xouts = get_num(redfin_vars[2])\n",
      "                    home_summary = [home_id, year_built, zip_code, lastsoldprice, beds, \n",
      "                                    baths, sqft, dom, parking, orig_list_price, views, \n",
      "                                    favs, xouts, lat, lon, counter]\n",
      "                    outf.write(','.join(str(e) for e in home_summary)+ \"\\n\")\n",
      "\n",
      "        line = listings.readline()\n",
      "    listings.close()\n",
      "    outf.close()"
     ],
     "language": "python",
     "metadata": {},
     "outputs": [],
     "prompt_number": 16
    },
    {
     "cell_type": "code",
     "collapsed": false,
     "input": [
      "if __name__=='__main__':\n",
      "\n",
      "    browser = webdriver.Firefox()\n",
      "    browser.get('http://www.redfin.com/CA/Burlingame/3077-Mariposa-Dr-94010/home/2048468')\n",
      "    time.sleep(25) \n",
      "    \n",
      "    OBTAIN_TRAINING_SET = True\n",
      "    \n",
      "    raw_data = 'SF_new_listings_625_chunked.txt' #input list of addresses\n",
      "    training_file = 'SF_new_listings_625_scraped.txt' #decorated with scraped data\n",
      "    \n",
      "    crime_file = 'clustered_crime_data.csv' #from data.sfgov.org (clustered with kmeans in Matlab)\n",
      "    crime_data = open(crime_file,'r')\n",
      "    crime_contents = crime_data.readlines()\n",
      "    crime_strip = [x.split(',') for x in crime_contents[1:len(crime_contents)]]\n",
      "    close(crime_file)\n",
      "    \n",
      "    if OBTAIN_TRAINING_SET:\n",
      "        homelistings = open(raw_data, \"r\")\n",
      "        # per house, scrape data and write to file incrementally\n",
      "        createtrainingset(homelistings, training_file,crime_strip)\n",
      "        homelistings.close()\n",
      "\n",
      "    trainingset = open(training_file,'r')"
     ],
     "language": "python",
     "metadata": {},
     "outputs": [
      {
       "output_type": "stream",
       "stream": "stdout",
       "text": [
        "1387 Brussels St,1944,94134,575000,2,1,1085,9,1,575000,129,5,5,37.715345,-122.400473,94.0\n",
        "1267 Goettingen St,1950,94134,495000,2,1,935,21,1,495000,384,19,8,37.716509,-122.401949,94.0"
       ]
      },
      {
       "output_type": "stream",
       "stream": "stdout",
       "text": [
        "\n",
        "3830 San Bruno Ave,1948,94134,599000,4,2,1208,13,1,599000,244,20,12,37.7148,-122.401005,94.0"
       ]
      },
      {
       "output_type": "stream",
       "stream": "stdout",
       "text": [
        "\n",
        "325 China Basin St #416,2008,94158,1799000,2,2,1802,48,1,1799000,320,23,8,37.771662,-122.387453,28.0"
       ]
      },
      {
       "output_type": "stream",
       "stream": "stdout",
       "text": [
        "\n",
        "325 Berry St #505,2007,94158,1175000,2,2,1303,1,1,1175000,140,15,4,37.773386,-122.395757,344.0"
       ]
      },
      {
       "output_type": "stream",
       "stream": "stdout",
       "text": [
        "\n"
       ]
      }
     ],
     "prompt_number": 20
    },
    {
     "cell_type": "code",
     "collapsed": false,
     "input": [],
     "language": "python",
     "metadata": {},
     "outputs": []
    }
   ],
   "metadata": {}
  }
 ]
}